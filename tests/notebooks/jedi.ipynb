{
 "cells": [
  {
   "cell_type": "code",
   "execution_count": 33,
   "metadata": {},
   "outputs": [
    {
     "name": "stdout",
     "output_type": "stream",
     "text": [
      "def a_func():\n",
      "    a = 1\n",
      "    b = 2 * a\n",
      "    c = a * foo() + b * 3\n",
      "    print(b, c)\n"
     ]
    }
   ],
   "source": [
    "import ast\n",
    "import jedi\n",
    "\n",
    "project_dir = \"src\"\n",
    "file_name = \"jedi_test.py\"\n",
    "\n",
    "file_contents = open(f\"{project_dir}/{file_name}\").read()\n",
    "\n",
    "project = jedi.Project(path=project_dir)\n",
    "script = jedi.Script(file_contents, path=file_name, project=project)\n",
    "tree = ast.parse(file_contents)\n",
    "\n",
    "function_definitions = set()\n",
    "\n",
    "for node in ast.walk(tree):\n",
    "    if node.__class__.__name__ == 'Call':\n",
    "        new_function_definitions = script.goto(\n",
    "            node.lineno, \n",
    "            node.col_offset,\n",
    "            follow_imports=True,\n",
    "            follow_builtin_imports=True,\n",
    "        )\n",
    "        function_definitions.update(new_function_definitions)\n",
    "\n",
    "for function_definition in function_definitions:\n",
    "    start_line, _ = function_definition.get_definition_start_position()\n",
    "    end_line, _ = function_definition.get_definition_end_position()\n",
    "    module_contents = open(function_definition.module_path).read()\n",
    "    print(\"\\n\".join(module_contents.split(\"\\n\")[max(0, start_line - 1): end_line]))\n"
   ]
  },
  {
   "cell_type": "code",
   "execution_count": null,
   "metadata": {},
   "outputs": [],
   "source": []
  }
 ],
 "metadata": {
  "kernelspec": {
   "display_name": "Python 3.10.10 ('sweepai-u_CIt3kb-py3.10')",
   "language": "python",
   "name": "python3"
  },
  "language_info": {
   "codemirror_mode": {
    "name": "ipython",
    "version": 3
   },
   "file_extension": ".py",
   "mimetype": "text/x-python",
   "name": "python",
   "nbconvert_exporter": "python",
   "pygments_lexer": "ipython3",
   "version": "3.10.10"
  },
  "orig_nbformat": 4,
  "vscode": {
   "interpreter": {
    "hash": "25d341f3248a096a89b9dbf6eec8e41f63aed02f6ba059df22a49224e3e8f1b0"
   }
  }
 },
 "nbformat": 4,
 "nbformat_minor": 2
}
