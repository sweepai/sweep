{
 "cells": [
  {
   "cell_type": "code",
   "execution_count": 17,
   "metadata": {},
   "outputs": [
    {
     "name": "stdout",
     "output_type": "stream",
     "text": [
      "4 11\n",
      "<Name full_name='helpers.test2.a_func', description='def a_func'>\n"
     ]
    }
   ],
   "source": [
    "import ast\n",
    "import jedi\n",
    "\n",
    "project_dir = \"src\"\n",
    "file_name = \"jedi_test.py\"\n",
    "\n",
    "file_contents = open(f\"{project_dir}/{file_name}\").read()\n",
    "\n",
    "project = jedi.Project(path=project_dir)\n",
    "script = jedi.Script(file_contents, path=file_name, project=project)\n",
    "tree = ast.parse(file_contents)\n",
    "\n",
    "for node in ast.walk(tree):\n",
    "    if node.__class__.__name__ == 'Call':\n",
    "        function_definition = script.get_signatures(\n",
    "            node.lineno, \n",
    "            # node.col_offset + 2,\n",
    "            19\n",
    "        )\n",
    "        function_definitions = script.goto(\n",
    "            node.lineno, \n",
    "            node.col_offset,\n",
    "            follow_imports=True,\n",
    "            follow_builtin_imports=True,\n",
    "        )\n",
    "        print(node.lineno, node.col_offset)\n",
    "        if function_definitions:\n",
    "            function_definition = function_definitions[0]\n",
    "            function_definition\n",
    "\n",
    "for function in script.get_names():\n",
    "    pass\n",
    "#     if function.type == 'function':\n",
    "#         print(function)\n",
    "        # definition = function.goto_assignments()\n",
    "        # if definition:\n",
    "        #     print(f\"{function.name} is defined at {definition[0].module_path}:{definition[0].line}\")"
   ]
  },
  {
   "cell_type": "code",
   "execution_count": null,
   "metadata": {},
   "outputs": [],
   "source": []
  }
 ],
 "metadata": {
  "kernelspec": {
   "display_name": "Python 3.10.10 ('sweepai-u_CIt3kb-py3.10')",
   "language": "python",
   "name": "python3"
  },
  "language_info": {
   "codemirror_mode": {
    "name": "ipython",
    "version": 3
   },
   "file_extension": ".py",
   "mimetype": "text/x-python",
   "name": "python",
   "nbconvert_exporter": "python",
   "pygments_lexer": "ipython3",
   "version": "3.10.10"
  },
  "orig_nbformat": 4,
  "vscode": {
   "interpreter": {
    "hash": "25d341f3248a096a89b9dbf6eec8e41f63aed02f6ba059df22a49224e3e8f1b0"
   }
  }
 },
 "nbformat": 4,
 "nbformat_minor": 2
}
