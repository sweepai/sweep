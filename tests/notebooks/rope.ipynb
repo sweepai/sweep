{
 "cells": [
  {
   "cell_type": "code",
   "execution_count": 4,
   "metadata": {},
   "outputs": [
    {
     "name": "stdout",
     "output_type": "stream",
     "text": [
      "28 64\n"
     ]
    }
   ],
   "source": [
    "import rope.base.project\n",
    "from rope.refactor.extract import ExtractMethod\n"
   ]
  },
  {
   "cell_type": "code",
   "execution_count": 12,
   "metadata": {},
   "outputs": [
    {
     "name": "stdout",
     "output_type": "stream",
     "text": [
      "28 64\n",
      "--- a/test.py\n",
      "+++ b/test.py\n",
      "@@ -1,5 +1,8 @@\n",
      " def a_func():\n",
      "     a = 1\n",
      "+    b, c = helper(a)\n",
      "+    print(b, c)\n",
      "+def helper(a):\n",
      "     b = 2 * a\n",
      "     c = a * 2 + b * 3\n",
      "-    print(b, c)+    return b, c\n",
      "\n"
     ]
    }
   ],
   "source": [
    "myproject = rope.base.project.Project('src')\n",
    "\n",
    "myresource = myproject.get_resource('test.py')\n",
    "print(myresource.read().find(\"b\"), myresource.read().find(\"print\"))\n",
    "\n",
    "extractor = ExtractMethod(myproject, myresource, 28, 64)\n",
    "change_set = extractor.get_changes(\"helper\")\n",
    "for change in change_set.changes:\n",
    "    print(change.get_description())"
   ]
  },
  {
   "cell_type": "code",
   "execution_count": 10,
   "metadata": {},
   "outputs": [
    {
     "data": {
      "text/plain": [
       "[None]"
      ]
     },
     "execution_count": 10,
     "metadata": {},
     "output_type": "execute_result"
    }
   ],
   "source": [
    "myproject = rope.base.project.Project('../../sweepai')\n",
    "\n",
    "myresource = myproject.get_resource('core/vector_db.py')\n",
    "print(myresource.read().find(\"b\"), myresource.read().find(\"print\"))\n",
    "\n",
    "extractor = ExtractMethod(myproject, myresource, 28, 64)\n",
    "change_set = extractor.get_changes(\"helper\")\n",
    "for change in change_set.changes:\n",
    "    print(change.get_description())"
   ]
  },
  {
   "cell_type": "code",
   "execution_count": null,
   "metadata": {},
   "outputs": [],
   "source": []
  }
 ],
 "metadata": {
  "kernelspec": {
   "display_name": "Python 3.10.10 ('sweepai-u_CIt3kb-py3.10')",
   "language": "python",
   "name": "python3"
  },
  "language_info": {
   "codemirror_mode": {
    "name": "ipython",
    "version": 3
   },
   "file_extension": ".py",
   "mimetype": "text/x-python",
   "name": "python",
   "nbconvert_exporter": "python",
   "pygments_lexer": "ipython3",
   "version": "3.10.10"
  },
  "orig_nbformat": 4,
  "vscode": {
   "interpreter": {
    "hash": "25d341f3248a096a89b9dbf6eec8e41f63aed02f6ba059df22a49224e3e8f1b0"
   }
  }
 },
 "nbformat": 4,
 "nbformat_minor": 2
}
